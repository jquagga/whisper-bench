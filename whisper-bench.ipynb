{
 "cells": [
  {
   "cell_type": "markdown",
   "id": "549010ea-7cbc-412e-a3f9-3e5351d9402d",
   "metadata": {},
   "source": [
    "# Whisper benchmarking\n"
   ]
  },
  {
   "cell_type": "code",
   "execution_count": null,
   "id": "a3ed8721",
   "metadata": {},
   "outputs": [],
   "source": [
    "%pip install --upgrade pip\n",
    "# %pip install --upgrade evaluate jiwer\n",
    "# Let's install torch here.  Pick out your options from https://pytorch.org/get-started/locally/\n",
    "%pip install torch torchvision torchaudio --index-url https://download.pytorch.org/whl/cpu #CPU Only Version\n",
    "\n",
    "import time\n",
    "\n",
    "# import evaluate\n",
    "\n",
    "# wer = evaluate.load(\"wer\")\n",
    "# cer = evaluate.load(\"cer\")"
   ]
  },
  {
   "cell_type": "markdown",
   "id": "834da2b3-051d-4441-a4f6-eef7f062fc73",
   "metadata": {},
   "source": [
    "## Transformers\n"
   ]
  },
  {
   "cell_type": "code",
   "execution_count": null,
   "id": "b6459969",
   "metadata": {},
   "outputs": [],
   "source": [
    "%pip install --upgrade transformers accelerate"
   ]
  },
  {
   "cell_type": "code",
   "execution_count": null,
   "id": "35ebe841",
   "metadata": {},
   "outputs": [],
   "source": [
    "import torch\n",
    "from transformers import AutoModelForSpeechSeq2Seq, AutoProcessor, pipeline\n",
    "\n",
    "start_time = time.time()\n",
    "# device = \"cuda:0\" if torch.cuda.is_available() else \"cpu\"\n",
    "# torch_dtype = torch.float16 if torch.cuda.is_available() else torch.float32\n",
    "\n",
    "device = \"cpu\"\n",
    "torch_dtype = torch.float32\n",
    "\n",
    "model_id = \"openai/whisper-tiny.en\"\n",
    "\n",
    "print(f\"We are using {torch_dtype} on {device} with {model_id}\")\n",
    "\n",
    "model = AutoModelForSpeechSeq2Seq.from_pretrained(\n",
    "    model_id, torch_dtype=torch_dtype, low_cpu_mem_usage=True, use_safetensors=True\n",
    ")\n",
    "model.to(device)\n",
    "\n",
    "processor = AutoProcessor.from_pretrained(model_id)\n",
    "\n",
    "pipe = pipeline(\n",
    "    \"automatic-speech-recognition\",\n",
    "    model=model,\n",
    "    tokenizer=processor.tokenizer,\n",
    "    feature_extractor=processor.feature_extractor,\n",
    "    torch_dtype=torch_dtype,\n",
    "    device=device,\n",
    ")\n",
    "\n",
    "sample = \"hp0.wav\"\n",
    "\n",
    "\n",
    "result = pipe(sample, generate_kwargs={\"return_timestamps\": True})\n",
    "elapsed_time = time.time() - start_time\n",
    "print(f\"Elapsed time:{elapsed_time / 60}\")\n",
    "\n",
    "print(result[\"text\"])\n",
    "\n",
    "\n",
    "# with open(\"transformers.txt\", \"w\") as f:\n",
    "#    f.write(str(result[\"text\"].encode(\"utf-8\")))"
   ]
  },
  {
   "cell_type": "markdown",
   "id": "6afc895c",
   "metadata": {},
   "source": [
    "## Faster Whisper\n"
   ]
  },
  {
   "cell_type": "code",
   "execution_count": null,
   "id": "4fc26c2c",
   "metadata": {},
   "outputs": [],
   "source": [
    "%pip install faster-whisper"
   ]
  },
  {
   "cell_type": "code",
   "execution_count": null,
   "id": "0d2da149",
   "metadata": {},
   "outputs": [],
   "source": [
    "from faster_whisper import WhisperModel\n",
    "\n",
    "start_time = time.time()\n",
    "model_size = \"tiny.en\"\n",
    "# model_size = \"deepdml/faster-whisper-large-v3-turbo-ct2\"\n",
    "\n",
    "# Run on GPU with FP16\n",
    "# model = WhisperModel(model_size, device=\"cuda\", compute_type=\"float16\")\n",
    "\n",
    "# or run on GPU with INT8\n",
    "# model = WhisperModel(model_size, device=\"cuda\", compute_type=\"int8_float16\")\n",
    "# or run on CPU with INT8\n",
    "model = WhisperModel(model_size, device=\"cpu\", compute_type=\"auto\")\n",
    "\n",
    "segments, info = model.transcribe(sample, beam_size=5)\n",
    "\n",
    "print(\n",
    "    \"Detected language '%s' with probability %f\"\n",
    "    % (info.language, info.language_probability)\n",
    ")\n",
    "\n",
    "calltext = \"\".join(segment.text for segment in segments)\n",
    "\n",
    "print(calltext)\n",
    "\n",
    "elapsed_time = time.time() - start_time\n",
    "print(f\"Elapsed time:{elapsed_time / 60}\")"
   ]
  },
  {
   "cell_type": "code",
   "execution_count": null,
   "id": "ebc3e2ff",
   "metadata": {},
   "outputs": [],
   "source": []
  },
  {
   "cell_type": "code",
   "execution_count": null,
   "id": "31f0538e",
   "metadata": {},
   "outputs": [],
   "source": []
  }
 ],
 "metadata": {
  "kernelspec": {
   "display_name": "Python 3 (ipykernel)",
   "language": "python",
   "name": "python3"
  },
  "language_info": {
   "codemirror_mode": {
    "name": "ipython",
    "version": 3
   },
   "file_extension": ".py",
   "mimetype": "text/x-python",
   "name": "python",
   "nbconvert_exporter": "python",
   "pygments_lexer": "ipython3",
   "version": "3.12.6"
  }
 },
 "nbformat": 4,
 "nbformat_minor": 5
}
